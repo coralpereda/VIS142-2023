{
 "cells": [
  {
   "cell_type": "code",
   "execution_count": 13,
   "metadata": {},
   "outputs": [
    {
     "name": "stdout",
     "output_type": "stream",
     "text": [
      "PNG\n",
      "(357, 222)\n",
      "RGBA\n"
     ]
    }
   ],
   "source": [
    "#this is a combination of the code color_skel.py by Brett and the one here https://www.geeksforgeeks.org/how-to-convert-images-to-numpy-array/# \n",
    "from PIL import Image \n",
    "import numpy\n",
    "from numpy import asarray\n",
    "# import random\n",
    "import png\n",
    "\n",
    "img = Image.open('doggo.png')\n",
    "\n",
    "# summarize some details about the image. test.\n",
    "print(img.format)\n",
    "print(img.size)\n",
    "print(img.mode)"
   ]
  },
  {
   "cell_type": "code",
   "execution_count": 7,
   "metadata": {},
   "outputs": [
    {
     "name": "stdout",
     "output_type": "stream",
     "text": [
      "(222, 357, 4)\n"
     ]
    }
   ],
   "source": [
    "np_img = numpy.array(img)\n",
    " \n",
    "print(np_img.shape)"
   ]
  },
  {
   "cell_type": "code",
   "execution_count": 3,
   "metadata": {},
   "outputs": [],
   "source": [
    "# numpy array\n",
    "dog_data = asarray(img)\n",
    " \n",
    "# data\n",
    "# print(dog_data)"
   ]
  },
  {
   "cell_type": "code",
   "execution_count": 30,
   "metadata": {},
   "outputs": [],
   "source": [
    "width = 357\n",
    "height = 222\n",
    "\n",
    "imagedata = [] # just to show we created a list called imagedata\n",
    "for h in range(height): # h is the index of the rows. each time you go down a pixel. \n",
    "    row = [] # every time I go to a new row, I create a new list that will store the RGB values. \n",
    "    for w in range(width):\n",
    "        #print(h,w)\n",
    "        for x in dog_data[h,w,:3]:\n",
    "            row.append(x)\n",
    "    imagedata.append(row) # all of the rows are put in there. \n",
    "\n",
    "dog_new = png.fromarray(imagedata, 'RGB')\n",
    "dog_new.save(\"dog_01.png\") #fromarray function in the pypng library\n"
   ]
  }
 ],
 "metadata": {
  "kernelspec": {
   "display_name": "Python 3.10.6 ('my-pypng-env')",
   "language": "python",
   "name": "python3"
  },
  "language_info": {
   "codemirror_mode": {
    "name": "ipython",
    "version": 3
   },
   "file_extension": ".py",
   "mimetype": "text/x-python",
   "name": "python",
   "nbconvert_exporter": "python",
   "pygments_lexer": "ipython3",
   "version": "3.10.6"
  },
  "orig_nbformat": 4,
  "vscode": {
   "interpreter": {
    "hash": "bbfab2f366439289b900611b83ecdd59050b5ce04b46e0e11fd0c9184ee3eeda"
   }
  }
 },
 "nbformat": 4,
 "nbformat_minor": 2
}
